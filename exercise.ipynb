{
 "cells": [
  {
   "cell_type": "markdown",
   "id": "f1fb3847-197d-4534-aee8-48ad44515fb8",
   "metadata": {},
   "source": [
    "# Load the book "
   ]
  },
  {
   "cell_type": "code",
   "execution_count": 1,
   "id": "e1c1f32a-bcb7-4a2d-95a3-fbd63ee9ecdb",
   "metadata": {},
   "outputs": [],
   "source": [
    "with open(\"miracle_in_the_andes.txt\",\"r\",encoding='utf-8') as file:\n",
    "    book = file.read()"
   ]
  },
  {
   "cell_type": "markdown",
   "id": "f4204aff-d9d2-4a3e-8249-666a8616431a",
   "metadata": {},
   "source": [
    "# Extract the paragraphs where \"love\" was used"
   ]
  },
  {
   "cell_type": "code",
   "execution_count": 2,
   "id": "4ec3b1a7-cfcc-4a4d-a588-ef7ce1c9e5a9",
   "metadata": {},
   "outputs": [
    {
     "data": {
      "text/plain": [
       "['To me, this is the essence of rugby. No other sport gives you such an intense sense of selflessness and unified purpose. I believe this is why rugby players all over the world feel such a passion for the game and such a feeling of brotherhood. As a young man, of course, I could not put these things into words, but I knew, and my teammates knew, that there was something special about the game, and under the guidance of the Christian Brothers we developed a passionate love for the sport that shaped our friendships and our lives. For eight years we played our hearts out for the Christian Brothers—a brotherhood of young boys with Latin names, playing a game with deep Anglo roots under Uruguay’s sunny skies, and proudly wearing the bright green shamrock on our uniforms. The game became so much a part of our lives, in fact, that when we graduated from Stella Maris at the age of sixteen, many of us could not bear the thought that our playing days were over. Our salvation came in the form of the Old Christians Club, a private rugby team formed in 1965 by previous alumni of the Stella Maris rugby program to give Stella Maris ruggers a chance to continue playing the game after our school years ended.',\n",
       " 'There were others—Alexis Hounie, Gastón Costemalle, Daniel Shaw—all of them great players and all of them my friends. But my oldest friend was Guido Magri. He and I had met on my first day at the Stella Maris School—I was eight years old and Guido was one year older—and we had been inseparable ever since. Guido and I grew up together, playing soccer and sharing a love of motorcycles, cars, and auto racing. When I was fifteen we both had mopeds that we had modified in silly ways—removing the mufflers, turn signals, and fenders—and we would ride them to Las Delicias, a famous ice cream parlor in our neighborhood, where we would drool over the girls from the nearby School Sagrado Corazón, hoping to impress them with our souped-up scooters. Guido was a dependable friend, with a good sense of humor and an easy laugh. He was also an outstanding scrum half, as quick and smart as a fox, with good hands and great courage. Under the guidance of the Christian Brothers, both of us grew to love the game of rugby with a consuming passion. As seasons passed we worked hard to improve our skills, and by the time I was fifteen we had each earned a spot on the Stella Maris First XV, the team’s starting lineup. After graduation, both of us went on to join the Old Christians and spent several happy seasons pursuing the high-octane social life of young rugby players. That rowdiness came to an abrupt end for Guido in 1969, when he met and fell in love with the beautiful daughter of a Chilean diplomat. She was now his fiancée, and he was happy to behave himself for her sake.']"
      ]
     },
     "execution_count": 2,
     "metadata": {},
     "output_type": "execute_result"
    }
   ],
   "source": [
    "import re\n",
    "pattern = re.compile(\"[^\\n]+love[^\\n]+\")\n",
    "finding = re.findall(pattern,book)\n",
    "finding[:2]"
   ]
  },
  {
   "cell_type": "markdown",
   "id": "6ed2748a-dd90-4e9e-9e97-f537a0d3ce4f",
   "metadata": {},
   "source": [
    "# Extract chapter titles"
   ]
  },
  {
   "cell_type": "code",
   "execution_count": 3,
   "id": "6d2502fa-86c2-4b7b-b7b9-246e3fec912e",
   "metadata": {},
   "outputs": [
    {
     "data": {
      "text/plain": [
       "['Before',\n",
       " 'Everything Precious',\n",
       " 'A Promise',\n",
       " 'Breathe Once More',\n",
       " 'Abandoned',\n",
       " 'Tomb',\n",
       " 'East',\n",
       " 'The Opposite of Death',\n",
       " 'I See a Man',\n",
       " 'After']"
      ]
     },
     "execution_count": 3,
     "metadata": {},
     "output_type": "execute_result"
    }
   ],
   "source": [
    "import re\n",
    "pattern = re.compile(\"([a-zA-Z ,]+)\\n\\n\")\n",
    "finding = re.findall(pattern,book)\n",
    "finding"
   ]
  },
  {
   "cell_type": "markdown",
   "id": "685070e3-607f-409b-a3a7-bfed9c00f373",
   "metadata": {},
   "source": [
    "# Function to finds the occerence of any word"
   ]
  },
  {
   "cell_type": "code",
   "execution_count": 7,
   "id": "7d28b7d5-9f7a-47d7-8f6c-bdd92a07ebc3",
   "metadata": {},
   "outputs": [],
   "source": [
    "def find(w):\n",
    "    pattern = re.compile(\"[a-zA-Z]+\")\n",
    "    findings =re.findall(pattern,book.lower())\n",
    "    d = {}\n",
    "    for word in findings:\n",
    "        if word in d.keys():\n",
    "            d[word] = d[word] +1\n",
    "        else:\n",
    "            d[word] =1\n",
    "    try:\n",
    "        return d[w]\n",
    "    except KeyError:\n",
    "            return f'the book does not contain the word \"{w}\"'\n",
    "    \n"
   ]
  },
  {
   "cell_type": "markdown",
   "id": "1496da07-d5fa-4988-a987-e032845bf09e",
   "metadata": {},
   "source": [
    "# Call the Function"
   ]
  },
  {
   "cell_type": "code",
   "execution_count": 8,
   "id": "f6672b11-8725-43ae-a1c4-a2376d08c4e7",
   "metadata": {},
   "outputs": [
    {
     "data": {
      "text/plain": [
       "83"
      ]
     },
     "execution_count": 8,
     "metadata": {},
     "output_type": "execute_result"
    }
   ],
   "source": [
    "find('love')"
   ]
  },
  {
   "cell_type": "code",
   "execution_count": null,
   "id": "3986059c-a450-4f80-b2ec-b797c113f8fc",
   "metadata": {},
   "outputs": [],
   "source": []
  },
  {
   "cell_type": "code",
   "execution_count": null,
   "id": "127ed0db-1b2d-49aa-9f48-0d969fa987af",
   "metadata": {},
   "outputs": [],
   "source": []
  }
 ],
 "metadata": {
  "kernelspec": {
   "display_name": "Python 3 (ipykernel)",
   "language": "python",
   "name": "python3"
  },
  "language_info": {
   "codemirror_mode": {
    "name": "ipython",
    "version": 3
   },
   "file_extension": ".py",
   "mimetype": "text/x-python",
   "name": "python",
   "nbconvert_exporter": "python",
   "pygments_lexer": "ipython3",
   "version": "3.12.2"
  }
 },
 "nbformat": 4,
 "nbformat_minor": 5
}
